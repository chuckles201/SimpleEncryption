{
 "cells": [
  {
   "cell_type": "markdown",
   "id": "b3dd8ac2",
   "metadata": {},
   "source": [
    "# AES Encryption\n",
    "\n",
    "Let's try to understand the fundamentals behind AES, and why it is the standard for encryption. The goal is to intuitively understand why it was chosen, and why it works, not just that it happens to work!\n",
    "\n",
    "Questions:\n",
    "- Why this specific algorithm, what other algorithms had weaknesses (ie xor)?\n",
    "\n",
    "--------------------"
   ]
  },
  {
   "cell_type": "markdown",
   "id": "95c685c3",
   "metadata": {},
   "source": [
    "## Cryptography\n",
    "\n",
    "Let's try to understand some key cryptographic principles. \n",
    "\n",
    "Say we are doing a bitwise transformation, where our key ```010``` either transforms the data (if 0, or keeps it the same, if 1).\n",
    "\n",
    "```\n",
    "000\n",
    "010\n",
    "|||\n",
    "101\n",
    "```\n",
    "\n",
    "We take our 'plain text' and with a 'key' turn it into 'cipher text' (that can be reversed with the key). So, would an attacker with acess to the cipher be able to derive the plaintext?\n",
    "\n",
    "Well, if our key *exactly matches* the length of of what we're encrypting, the attacker has no way to efficiently guess the key.\n",
    "\n",
    "This is because:\n",
    "- No parts of the key are repeating, its completely random and would need to be derived from scratch\n",
    "- The crypto text has absolutely *zero* information, if the cypher is random, so is the encrypted text. (equal chance of zero and one for each)\n",
    "\n",
    "> So, why does using the key multiple times (ie reusing it for 'chunks') reveal information\n",
    "\n",
    "Well, think of what an attacker can do now.\n",
    "\n",
    "```\n",
    "000101010100110110\n",
    "010--------------- (repeats)\n",
    "||||||||||||||||||\n",
    "101...\n",
    "```\n",
    "\n",
    "even if the key is very long (not like our three-letter key), the attacker can break it into chunks, and try out different things, for example, trying to construct 'and' and 'the' as many times as possible with a chunk of 24 bits.\n",
    "\n",
    "The more times the key is repeated, the more words they'll be able to construct, and if the key repeats a *huge* number of times:\n",
    "- the attacker is able to construct small words with 24 bits (2^24 options only), and the key which makes common words repeat the most is correct\n",
    "- repeat this with parts of the key, since we can break apart parts of the key.\n",
    "\n",
    "## Looking beyond Xor\n",
    "\n",
    "So, how can we use one key, efficiently, to encode our text?\n",
    "\n",
    "- Avoid being able to split key into parts: a change in plaintext should result in drastic change of key (change ~50% randomly)\n",
    "\n",
    "- Avoid being able to *derive the key* from plain and cipher text. To do this, the cipher must be a complex, non-reversible function of the key and plain text (ie not cipher = plain * key, can just divide!). Also this means the parts of the key must affect many parts of the output, so parts can't be isolated.\n",
    "\n",
    "Basically, it means that you cant reverse engineer the key with math, and you'll HAVE to directly guess the key before any pattern shows (in getting the key, or the plaintext). So how is this actually implemented in practice?\n",
    "\n",
    "## AES (Rinjdael)\n",
    "\n",
    "After a competition by the NSA, they selected the Rinjdael algorithm, for being optimized for hardware, and for being mathematically/cryptographically sound. But, why?\n",
    "\n",
    "Now, let's look at the AES algorithm, and see why:\n",
    "- its secure (anti-frequency, anti-reversibility)\n",
    "- its fast, and efficient enough to be chosen as the standard\n",
    "\n",
    "\n"
   ]
  },
  {
   "cell_type": "markdown",
   "id": "2adfea4d",
   "metadata": {},
   "source": []
  }
 ],
 "metadata": {
  "language_info": {
   "name": "python"
  }
 },
 "nbformat": 4,
 "nbformat_minor": 5
}
