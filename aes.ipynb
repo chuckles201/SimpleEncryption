{
 "cells": [
  {
   "cell_type": "markdown",
   "id": "b3dd8ac2",
   "metadata": {},
   "source": [
    "# AES Encryption\n",
    "\n",
    "Let's try to understand the fundamentals behind AES, and why it is the standard for encryption. The goal is to intuitively understand why it was chosen, and why it works, not just that it happens to work!\n",
    "\n",
    "Questions:\n",
    "- Why this specific algorithm, what other algorithms had weaknesses (ie xor)?\n"
   ]
  },
  {
   "cell_type": "markdown",
   "id": "95c685c3",
   "metadata": {},
   "source": []
  },
  {
   "cell_type": "code",
   "execution_count": null,
   "id": "f287f572",
   "metadata": {
    "vscode": {
     "languageId": "plaintext"
    }
   },
   "outputs": [],
   "source": []
  }
 ],
 "metadata": {
  "language_info": {
   "name": "python"
  }
 },
 "nbformat": 4,
 "nbformat_minor": 5
}
